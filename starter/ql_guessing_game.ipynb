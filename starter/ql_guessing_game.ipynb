{
  "cells": [
    {
      "cell_type": "code",
      "execution_count": 1,
      "metadata": {
        "id": "jFOgE8j46IbC"
      },
      "outputs": [],
      "source": [
        "import numpy as np"
      ]
    },
    {
      "cell_type": "code",
      "execution_count": 2,
      "metadata": {
        "id": "crE5Zv096Lt9"
      },
      "outputs": [],
      "source": [
        "ACTION_SIZE = 100       # guessed numbers are 0-99\n",
        "LOWER = 0\n",
        "UPPER = 100\n",
        "N_EXPERIENCES = 1000\n",
        "MAX_GUESSES = 100\n",
        "MIN_ALPHA = 0.02\n",
        "ALPHAS = np.linspace(1.0, MIN_ALPHA, N_EXPERIENCES)\n",
        "GAMMA = 0.9\n",
        "EPSILON = 0.1\n",
        "\n",
        "DUMP_REWARD = -10\n",
        "SMART_REWARD = 50\n",
        "DONE_REWARD = 100"
      ]
    },
    {
      "cell_type": "code",
      "execution_count": 3,
      "metadata": {
        "id": "THH-excL6TIU"
      },
      "outputs": [],
      "source": [
        "# Game state: \n",
        "#   - lower: (n >= lower)\n",
        "#   - upper: (n <= upper)\n",
        "#  \n",
        "# Action: A number in [0, 99]\n",
        "# Q-values (state, action): action with highest Qvalue will be chosen for that state"
      ]
    },
    {
      "cell_type": "code",
      "execution_count": 4,
      "metadata": {
        "id": "ITuBTg_qIaOV"
      },
      "outputs": [],
      "source": [
        "# Utility functions to convert/decode lower, upper <-> state\n",
        "def decode_state(state):\n",
        "  if state < 1000:\n",
        "    return 0, state\n",
        "  upper = state % 1000\n",
        "  lower = state // 1000\n",
        "  return lower, upper\n",
        "  \n",
        "def encode_state(lower, upper):\n",
        "  return lower * 10**3 + upper"
      ]
    },
    {
      "cell_type": "code",
      "execution_count": 5,
      "metadata": {
        "id": "bi66aVpq6ZK5"
      },
      "outputs": [],
      "source": [
        "class GameAgent:\n",
        "  def __init__(self):\n",
        "    self.q_table = {} # A dictionary, each key is a state, each value is a list of all Q-values for that state\n",
        "    self.guessed = [] # A list to store all guessed numbers (1- already guessed, 0- not yet)\n",
        "  \n",
        "  # reset agent after each game\n",
        "  def reset(self):\n",
        "    self.guessed = [0] * ACTION_SIZE\n",
        "\n",
        "  def number_was_not_guessed(self, number):\n",
        "    return self.guessed[number] == 0\n",
        "  \n",
        "  def random_policy(self, state):\n",
        "    lower, upper = decode_state(state)\n",
        "    # TODO: implement random policy\n",
        "    # return a valid action (number) that was not guessed before\n",
        "    \n",
        "  \n",
        "  # return the action that have Q(state, action) max\n",
        "  def policy(self, state):\n",
        "    pass\n",
        "    # TODO: find the action that have Q(state, action) max\n",
        "    # set the action to 1 in self.guessed\n",
        "    # return the action\n",
        "  \n",
        "  def choose_action(self, state):\n",
        "    pass\n",
        "    # TODO: implement epsilon-greedy policy\n",
        "    \n",
        "  \n",
        "  # return the Q value based on state & action: Q(state, action)\n",
        "  def Q(self, state, action=None):\n",
        "    # if it's a new state, add to the q_table dictionary with all Q values to zeros\n",
        "    if state not in self.q_table:\n",
        "      self.q_table[state] = np.zeros(ACTION_SIZE)\n",
        "    # if no action, return all q values\n",
        "    if action is None:\n",
        "      return self.q_table[state]    \n",
        "    \n",
        "    return self.q_table[state][action] # Return Qvalue of (state, action) pair\n",
        "\n",
        "class Environment:\n",
        "  def __init__(self):\n",
        "    self.state = 0\n",
        "    self.number = -1\n",
        "  \n",
        "  def reset(self, interact=False):\n",
        "    self.number = int(input('Enter a number to guess: ')) if interact else np.random.randint(LOWER, UPPER)\n",
        "    self.state = encode_state(LOWER, UPPER)\n",
        "    return self.number, self.state\n",
        "  \n",
        "  def perform(self, action): \n",
        "    lower, upper = decode_state(self.state)\n",
        "    done = False\n",
        "\n",
        "    if action == self.number:\n",
        "      done = True\n",
        "      reward = DONE_REWARD\n",
        "    else:\n",
        "      if action < lower or action > upper:\n",
        "        reward = DUMP_REWARD\n",
        "      else:\n",
        "        reward = (SMART_REWARD - np.abs((upper + lower) // 2 - action)) **3\n",
        "    \n",
        "    # udpate lower and upper\n",
        "    if action < self.number:\n",
        "      lower = action if action > lower else lower\n",
        "    elif action > self.number:\n",
        "      upper = action if action < upper else upper\n",
        "    # get new state from lower, upper\n",
        "    self.state = encode_state(lower, upper)\n",
        "    \n",
        "    return self.state, reward, done\n",
        "\n",
        "class GuessingGameModel:\n",
        "  def train(self, verbose=False):\n",
        "    agent = GameAgent()\n",
        "    env = Environment()\n",
        "\n",
        "    for exp in range(N_EXPERIENCES):\n",
        "      agent.reset()\n",
        "      _, state = env.reset()\n",
        "\n",
        "      total_reward = 0\n",
        "      alpha = ALPHAS[exp]\n",
        "      done = False\n",
        "      n_guesses = 0\n",
        "\n",
        "      while not done:\n",
        "        # TODO:\n",
        "        # 1. tell agent to choose an action \n",
        "        # 2. increase number of guesses\n",
        "        # 4. update environment by calling perform method and get next state, reward, and is_done\n",
        "        # 5. update q_table of agent by bellman equation\n",
        "        # 6. update state & check if done\n",
        "        # 7. if verbose, print out total reward and number of guesses\n",
        "\n",
        "    # after training for a while, return trained agent\n",
        "    return agent\n",
        "\n",
        "  def play(self, agent):\n",
        "    agent.reset()\n",
        "    env = Environment()\n",
        "    n, state = env.reset(interact=True)\n",
        "    n_guesses = 0\n",
        "    done = False\n",
        "\n",
        "    while not done:\n",
        "      action = agent.policy(state)\n",
        "      print('Agent guess: {0}'.format(action))\n",
        "      n_guesses += 1\n",
        "      if action == n:\n",
        "        print('Your guess is correct after {0} times'.format(n_guesses))\n",
        "      elif action < n:\n",
        "        print('Your guess is less than {0}'.format(n))\n",
        "      elif action > n:\n",
        "        print('Your guess is greater than {0}'.format(n))\n",
        "      \n",
        "      state, _, done = env.perform(action)\n",
        "\n",
        "      if n_guesses >= MAX_GUESSES:\n",
        "        print('You\\'re so dump that you\\'re out of possible guesses')\n",
        "        done = True"
      ]
    },
    {
      "cell_type": "code",
      "execution_count": null,
      "metadata": {
        "id": "GLX-3VJr6bmD"
      },
      "outputs": [],
      "source": [
        "model = GuessingGameModel()\n",
        "agent = model.train(verbose=True)"
      ]
    },
    {
      "cell_type": "code",
      "execution_count": 10,
      "metadata": {
        "colab": {
          "base_uri": "https://localhost:8080/"
        },
        "id": "zq3Cuxau6fJ5",
        "outputId": "bd898609-ccda-4f26-bd37-1943c0e52d74"
      },
      "outputs": [
        {
          "name": "stdout",
          "output_type": "stream",
          "text": [
            "Agent guess: 45\n",
            "Your guess is greater than 25\n",
            "Agent guess: 34\n",
            "Your guess is greater than 25\n",
            "Agent guess: 20\n",
            "Your guess is less than 25\n",
            "Agent guess: 25\n",
            "Your guess is correct after 4 times\n"
          ]
        }
      ],
      "source": [
        "model.play(agent)"
      ]
    }
  ],
  "metadata": {
    "colab": {
      "collapsed_sections": [],
      "name": "QL_GuessingGame_v2.ipynb",
      "provenance": []
    },
    "kernelspec": {
      "display_name": "Python 3",
      "name": "python3"
    },
    "language_info": {
      "codemirror_mode": {
        "name": "ipython",
        "version": 3
      },
      "file_extension": ".py",
      "mimetype": "text/x-python",
      "name": "python",
      "nbconvert_exporter": "python",
      "pygments_lexer": "ipython3",
      "version": "3.9.12"
    }
  },
  "nbformat": 4,
  "nbformat_minor": 0
}
