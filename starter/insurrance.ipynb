{
 "cells": [
  {
   "cell_type": "code",
   "execution_count": 55,
   "metadata": {},
   "outputs": [
    {
     "name": "stdout",
     "output_type": "stream",
     "text": [
      "(63, 2)\n"
     ]
    }
   ],
   "source": [
    "import numpy as np\n",
    "import matplotlib.pyplot as plt\n",
    "# Load data\n",
    "n_claims, total_payment = np.loadtxt(\"../insurance.csv\", skiprows=1, unpack=True, delimiter=',')\n",
    "data = np.column_stack((n_claims, total_payment))\n",
    "print(data.shape)"
   ]
  },
  {
   "cell_type": "code",
   "execution_count": 56,
   "metadata": {},
   "outputs": [
    {
     "name": "stdout",
     "output_type": "stream",
     "text": [
      "50\n",
      "(50, 1)\n",
      "(50, 1)\n"
     ]
    }
   ],
   "source": [
    "# Prepare data for training and testing\n",
    "N_OBS = int(data.shape[0] * 0.8)\n",
    "print(N_OBS)\n",
    "training_set = data[:N_OBS]\n",
    "test_set = data[N_OBS:]\n",
    "\n",
    "inputs = np.reshape(training_set[:, 0], (N_OBS,1))\n",
    "print(inputs.shape)\n",
    "\n",
    "targets = np.reshape(training_set[:, 1], (N_OBS, 1))\n",
    "print(targets.shape)"
   ]
  },
  {
   "cell_type": "code",
   "execution_count": 57,
   "metadata": {},
   "outputs": [
    {
     "name": "stdout",
     "output_type": "stream",
     "text": [
      "[[0.09796149]] [[-0.08142345]]\n"
     ]
    },
    {
     "data": {
      "image/png": "[encoded data removed]",
      "text/plain": [
       "<Figure size 432x288 with 1 Axes>"
      ]
     },
     "metadata": {
      "needs_background": "light"
     },
     "output_type": "display_data"
    }
   ],
   "source": [
    "init_range = 0.1\n",
    "weights = np.random.uniform(-init_range, init_range, size=(1, 1))\n",
    "bias = np.random.uniform(-init_range, init_range, size=(1, 1))\n",
    "\n",
    "print(weights, bias)\n",
    "initial_output = np.dot(inputs, weights) + bias\n",
    "# Plot data\n",
    "plt.scatter(inputs, targets)\n",
    "plt.plot(inputs, initial_output, color='red')\n",
    "plt.xlabel(\"Number of claims\")\n",
    "plt.ylabel(\"Total payment\")\n",
    "plt.show()"
   ]
  },
  {
   "cell_type": "code",
   "execution_count": 60,
   "metadata": {},
   "outputs": [
    {
     "name": "stdout",
     "output_type": "stream",
     "text": [
      "epoch 0 loss: 0.9611525794128468\n",
      "epoch 10 loss: 0.9611210681424094\n",
      "epoch 20 loss: 0.9610941598292321\n",
      "epoch 30 loss: 0.9610708830261683\n",
      "epoch 40 loss: 0.9610504713553782\n",
      "epoch 50 loss: 0.9610323202188653\n",
      "epoch 60 loss: 0.9610159526472783\n",
      "epoch 70 loss: 0.9610009923579201\n",
      "epoch 80 loss: 0.9609871425001222\n",
      "epoch 90 loss: 0.9609741688874013\n",
      "epoch 100 loss: 0.9609618867692552\n",
      "epoch 110 loss: 0.9609501503953872\n",
      "epoch 120 loss: 0.96093884478289\n",
      "epoch 130 loss: 0.9609278792213491\n",
      "epoch 140 loss: 0.960917182149\n",
      "epoch 150 loss: 0.9609066971105091\n",
      "epoch 160 loss: 0.9608963795680567\n",
      "epoch 170 loss: 0.9608861943855869\n",
      "epoch 180 loss: 0.9608761138441273\n",
      "epoch 190 loss: 0.9608661160760664\n",
      "epoch 200 loss: 0.9608561838299503\n",
      "epoch 210 loss: 0.9608463034960262\n",
      "epoch 220 loss: 0.9608364643374928\n",
      "epoch 230 loss: 0.9608266578840273\n",
      "epoch 240 loss: 0.9608168774533423\n",
      "epoch 250 loss: 0.9608071177737333\n",
      "epoch 260 loss: 0.960797374686313\n",
      "epoch 270 loss: 0.9607876449100973\n",
      "epoch 280 loss: 0.9607779258566824\n",
      "epoch 290 loss: 0.9607682154840453\n",
      "epoch 300 loss: 0.9607585121812026\n",
      "epoch 310 loss: 0.96074881467722\n",
      "epoch 320 loss: 0.9607391219694305\n",
      "epoch 330 loss: 0.9607294332668012\n",
      "epoch 340 loss: 0.9607197479452609\n",
      "epoch 350 loss: 0.9607100655124537\n",
      "epoch 360 loss: 0.9607003855799335\n",
      "epoch 370 loss: 0.9606907078412309\n",
      "epoch 380 loss: 0.9606810320545469\n",
      "epoch 390 loss: 0.960671358029101\n",
      "epoch 400 loss: 0.9606616856143626\n",
      "epoch 410 loss: 0.9606520146915534\n",
      "epoch 420 loss: 0.9606423451669441\n",
      "epoch 430 loss: 0.9606326769665685\n",
      "epoch 440 loss: 0.9606230100320502\n",
      "epoch 450 loss: 0.9606133443173108\n",
      "epoch 460 loss: 0.9606036797859763\n",
      "epoch 470 loss: 0.9605940164093266\n",
      "epoch 480 loss: 0.9605843541646798\n",
      "epoch 490 loss: 0.9605746930341196\n"
     ]
    }
   ],
   "source": [
    "LEARNING_RATE = 0.00001\n",
    "EPOCHS = 500\n",
    "for i in range(EPOCHS):\n",
    "    outputs = np.dot(inputs, weights) + bias\n",
    "    deltas = outputs - targets\n",
    "\n",
    "    loss = np.sum(deltas ** 2) / (1000 * N_OBS)\n",
    "    if i % 10 == 0:\n",
    "        print('epoch', i, 'loss:', loss)\n",
    "\n",
    "    weights = weights - LEARNING_RATE * np.dot(inputs.T, deltas / N_OBS)\n",
    "    bias = bias - LEARNING_RATE * np.sum(deltas / N_OBS)"
   ]
  },
  {
   "cell_type": "code",
   "execution_count": 61,
   "metadata": {},
   "outputs": [
    {
     "data": {
      "image/png": "[encoded data removed]",
      "text/plain": [
       "<Figure size 432x288 with 1 Axes>"
      ]
     },
     "metadata": {
      "needs_background": "light"
     },
     "output_type": "display_data"
    }
   ],
   "source": [
    "# Run model on test set\n",
    "test_inputs = np.reshape(test_set[:, 0], (test_set.shape[0], 1))\n",
    "test_targets = np.reshape(test_set[:, 1], (test_set.shape[0], 1))\n",
    "test_outputs = np.dot(test_inputs, weights) + bias\n",
    "# Plot results\n",
    "plt.scatter(inputs, targets, color='green')\n",
    "plt.scatter(test_inputs, test_targets, color='purple')\n",
    "plt.plot(test_inputs, test_outputs, color='red')\n",
    "plt.show()"
   ]
  },
  {
   "cell_type": "code",
   "execution_count": 63,
   "metadata": {},
   "outputs": [
    {
     "name": "stdout",
     "output_type": "stream",
     "text": [
      "3.6246492816737512\n"
     ]
    }
   ],
   "source": [
    "mse = np.sum((test_outputs - test_targets) ** 2) / (1000 * test_set.shape[0])\n",
    "print(mse)"
   ]
  }
 ],
 "metadata": {
  "kernelspec": {
   "display_name": "Python 3",
   "language": "python",
   "name": "python3"
  },
  "language_info": {
   "codemirror_mode": {
    "name": "ipython",
    "version": 3
   },
   "file_extension": ".py",
   "mimetype": "text/x-python",
   "name": "python",
   "nbconvert_exporter": "python",
   "pygments_lexer": "ipython3",
   "version": "3.9.12"
  },
  "orig_nbformat": 4
 },
 "nbformat": 4,
 "nbformat_minor": 2
}
