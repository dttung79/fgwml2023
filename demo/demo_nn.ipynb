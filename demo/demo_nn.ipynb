{
  "cells": [
    {
      "cell_type": "code",
      "execution_count": 1,
      "metadata": {
        "id": "vDdZcYrmE0kG"
      },
      "outputs": [],
      "source": [
        "import numpy as np\n",
        "import matplotlib.pyplot as plt\n",
        "import tensorflow as tf\n",
        "from keras.models import Sequential\n",
        "from keras.layers import Dense\n",
        "from tensorflow import keras"
      ]
    },
    {
      "cell_type": "code",
      "execution_count": null,
      "metadata": {
        "id": "Yleh22MdFFrc"
      },
      "outputs": [],
      "source": [
        "# Number of observations\n",
        "observations = 1000\n",
        "\n",
        "# Inputs\n",
        "x1 = np.random.uniform(-10, 10, (observations,1))\n",
        "x2 = np.random.uniform(-10, 10, (observations,1))\n",
        "inputs = np.column_stack((x1,x2))\n",
        "print(x1)\n",
        "print(x2)"
      ]
    },
    {
      "cell_type": "code",
      "execution_count": 5,
      "metadata": {
        "id": "1_8eBnh4FLN4"
      },
      "outputs": [],
      "source": [
        "# Generate targets\n",
        "noise = np.random.uniform(-1, 1, (observations,1))\n",
        "targets = 2*x1**2 - 3*x2**3 - 2 + noise\n",
        "# save into an npz file\n",
        "np.savez('TF_NLModel', inputs=inputs, targets=targets)"
      ]
    },
    {
      "cell_type": "code",
      "execution_count": 6,
      "metadata": {
        "id": "4rH9QOreHA8s"
      },
      "outputs": [],
      "source": [
        "# Load the training data from the NPZ\n",
        "training_data = np.load('TF_NLModel.npz')\n",
        "input_size = 2\n",
        "output_size = 1"
      ]
    },
    {
      "cell_type": "code",
      "execution_count": null,
      "metadata": {
        "id": "BE_kmZiTHL0C"
      },
      "outputs": [],
      "source": [
        "# Build a neural network\n",
        "# Setup some hyperparameters\n",
        "WIDTH = 30\n",
        "LEARNING_RATE = 0.002\n",
        "# Create a sequential model\n",
        "model = Sequential()\n",
        "# Add input layer\n",
        "model.add(Dense(WIDTH, activation=\"tanh\", input_dim=2, kernel_initializer=\"uniform\"))\n",
        "# Add hidden layer\n",
        "model.add(Dense(WIDTH, activation=\"tanh\", kernel_initializer=\"uniform\"))\n",
        "# Add output layer\n",
        "model.add(Dense(1, activation=\"linear\", kernel_initializer=\"uniform\"))\n",
        "\n",
        "# Compile model\n",
        "model.compile(loss='mse', optimizer=keras.optimizers.Adam(learning_rate=LEARNING_RATE))\n",
        "model.fit(training_data['inputs'], training_data['targets'], epochs=2000, verbose=2)"
      ]
    },
    {
      "cell_type": "code",
      "execution_count": null,
      "metadata": {
        "id": "7mhbaBUJPSlG"
      },
      "outputs": [],
      "source": [
        "output_predict = model.predict_on_batch(training_data['inputs']).round(1)\n",
        "print(output_predict[:10])"
      ]
    },
    {
      "cell_type": "code",
      "execution_count": null,
      "metadata": {
        "id": "CmyUuwF_Pawf"
      },
      "outputs": [],
      "source": [
        "targets_round = training_data['targets'].round(1)\n",
        "print(targets_round[:10])"
      ]
    },
    {
      "cell_type": "code",
      "execution_count": 13,
      "metadata": {
        "id": "VA-s69PVjSIT"
      },
      "outputs": [
        {
          "name": "stdout",
          "output_type": "stream",
          "text": [
            "Min distance: [6.10351563e-06] Max distance: [-225.49990234] Avg: -4.586898905810714\n",
            "Euclidean distance: 643.9258240267052\n"
          ]
        }
      ],
      "source": [
        "# Compare between output_predict and targets\n",
        "distances = output_predict - targets_round\n",
        "print('Min distance:', min(distances, key=abs), 'Max distance:', max(distances, key=abs), 'Avg:', np.mean(distances))\n",
        "print('Euclidean distance:', np.linalg.norm(output_predict - targets_round))"
      ]
    }
  ],
  "metadata": {
    "colab": {
      "collapsed_sections": [],
      "name": "NN4NonLinearModel.ipynb",
      "provenance": []
    },
    "kernelspec": {
      "display_name": "Python 3",
      "name": "python3"
    },
    "language_info": {
      "codemirror_mode": {
        "name": "ipython",
        "version": 3
      },
      "file_extension": ".py",
      "mimetype": "text/x-python",
      "name": "python",
      "nbconvert_exporter": "python",
      "pygments_lexer": "ipython3",
      "version": "3.8.16"
    }
  },
  "nbformat": 4,
  "nbformat_minor": 0
}
