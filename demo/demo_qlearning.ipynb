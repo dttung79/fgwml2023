{
 "cells": [
  {
   "cell_type": "code",
   "execution_count": 2,
   "metadata": {},
   "outputs": [
    {
     "name": "stdout",
     "output_type": "stream",
     "text": [
      "Q-table:\n",
      "  0.00   0.00   0.00   0.00  44.17   0.00 \n",
      "  0.00   0.00   0.00   7.29   0.00  99.99 \n",
      "  0.00   0.00   0.00  69.92   0.00   0.00 \n",
      "  0.00  89.76   3.95   0.00   0.00   0.00 \n",
      "  0.23   0.00   0.00  72.91   0.00   0.00 \n",
      "  0.00   0.00   0.00   0.00   0.00   0.00 \n"
     ]
    }
   ],
   "source": [
    "# Simple q-learning example to solve maze problem\n",
    "\n",
    "import numpy as np\n",
    "import random as rd\n",
    "\n",
    "def init_maze():\n",
    "    return [[-1, -1, -1, -1, 0, -1],\n",
    "            [-1, -1, -1, 0, -1, 0],\n",
    "            [-1, -1, -1, 0, -1, -1],\n",
    "            [-1, 0, 0, -1, 0, -1],\n",
    "            [0, -1, -1, 0, -1, 0],\n",
    "            [-1, 0, -1, -1, 0, 0]]\n",
    "\n",
    "def is_valid_action(maze, state, action):\n",
    "    # return True if action is valid\n",
    "    if maze[state][action] == -1:\n",
    "        return False\n",
    "    else:\n",
    "        return True\n",
    "\n",
    "def init_q_table(n_states, n_actions):\n",
    "    # return q_table that is all zeros\n",
    "    return np.zeros((n_states, n_actions))\n",
    "\n",
    "def q_learning(q_table, state, action, reward, next_state, alpha, gamma):\n",
    "    # update q_table based on bellman equation\n",
    "    q_table[state][action] = (1 - alpha) * q_table[state][action] + \\\n",
    "                                    alpha * (reward + gamma * np.max(q_table[next_state]))\n",
    "    return q_table\n",
    "\n",
    "def epsilon_greedy(q_table, state, epsilon):\n",
    "    # return random action in some cases, otherwise return best action\n",
    "    if rd.random() < epsilon:\n",
    "        return rd.randint(0, 5)\n",
    "    else:\n",
    "        return np.argmax(q_table[state])\n",
    "\n",
    "def policy(q_table, state):\n",
    "    # return best action for state\n",
    "    return np.argmax(q_table[state])\n",
    "\n",
    "def train(q_table, n_episodes, alpha, gamma, epsilon):\n",
    "    maze = init_maze()\n",
    "    # train q_table\n",
    "    for i in range(n_episodes):\n",
    "        state = rd.randint(0, 5)\n",
    "        while state != 5:\n",
    "            action = epsilon_greedy(q_table, state, epsilon)\n",
    "            if not is_valid_action(maze, state, action):\n",
    "                continue\n",
    "            else:\n",
    "                reward = 0 if action != 5 else 100\n",
    "            next_state = action\n",
    "            q_table = q_learning(q_table, state, action, reward, next_state, alpha, gamma)\n",
    "            state = next_state\n",
    "    return q_table\n",
    "\n",
    "def print_q_table(q_table):\n",
    "    print(\"Q-table:\")\n",
    "    for i in range(len(q_table)):\n",
    "        for j in range(len(q_table[i])):\n",
    "            print(\"{:6.2f}\".format(q_table[i][j]), end=\" \")\n",
    "        print()\n",
    "\n",
    "q_table = init_q_table(6, 6)\n",
    "n_episodes = 100\n",
    "alpha = 0.1\n",
    "gamma = 0.9\n",
    "epsilon = 0.1\n",
    "q_table = train(q_table, n_episodes, alpha, gamma, epsilon)\n",
    "\n",
    "print_q_table(q_table)"
   ]
  },
  {
   "cell_type": "code",
   "execution_count": 4,
   "metadata": {},
   "outputs": [
    {
     "name": "stdout",
     "output_type": "stream",
     "text": [
      "2->3\n",
      "3->1\n",
      "1->5\n"
     ]
    }
   ],
   "source": [
    "state = 2\n",
    "while state != 5:\n",
    "    action = policy(q_table, state)\n",
    "    print(f\"{state}->{action}\")\n",
    "    state = action"
   ]
  }
 ],
 "metadata": {
  "kernelspec": {
   "display_name": "base",
   "language": "python",
   "name": "python3"
  },
  "language_info": {
   "codemirror_mode": {
    "name": "ipython",
    "version": 3
   },
   "file_extension": ".py",
   "mimetype": "text/x-python",
   "name": "python",
   "nbconvert_exporter": "python",
   "pygments_lexer": "ipython3",
   "version": "3.9.12"
  },
  "orig_nbformat": 4
 },
 "nbformat": 4,
 "nbformat_minor": 2
}
