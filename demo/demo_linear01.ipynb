{
 "cells": [
  {
   "attachments": {},
   "cell_type": "markdown",
   "metadata": {},
   "source": [
    "# __Simple linear regression 1 input, 1 output__\n",
    "Trong ví dụ này, chúng ta sẽ thực hiện một ví dụ về hồi quy tuyến tính đơn giản với một biến đầu vào và một biến đầu ra. Đầu tiên, chúng ta sẽ tạo một tập dữ liệu mẫu với một biến đầu vào và một biến đầu ra. Sau đó, chúng ta sẽ thực hiện một hồi quy tuyến tính đơn giản trên tập dữ liệu này.\n",
    "Đầu vào được sinh ngẫu nhiên, đầu ra được tính theo công thức sau:\n",
    "$$y = 2x + 3 + \\epsilon$$\n",
    "Trong đó, $\\epsilon$ là một nhiễu được sinh ngẫu nhiên với phân phối chuẩn với trung bình bằng 0 và độ lệch chuẩn bằng 0.2.\n",
    "Mô hình hồi quy tuyến tính đơn giản sẽ có dạng sau:\n",
    "$$y = Wx + b$$\n",
    "Trong đó, $W$ là trọng số và $b$ là hệ số điều chỉnh. Sau khi hồi quy, nếu W xấp xỉ 2 và b xấp xỉ 3, thì mô hình hồi quy tuyến tính đơn giản đã được huấn luyện tốt.\n",
    "Để huấn luyện mô hình, ta dùng hàm mất mát MSE (Mean Squared Error) và thuật toán tối ưu hóa là Gradient Descent.\n",
    "Hàm mất mát MSE được tính theo công thức sau:\n",
    "$$MSE = \\frac{1}{N}\\sum_{i=1}^{N}(\\hat{y}_i - y_i)^2$$\n",
    "Trong đó $N$ là số lượng mẫu, $y_i$ là giá trị thực tế của biến đầu ra, $\\hat{y}_i$ là giá trị dự đoán của biến đầu ra.\n",
    "Thuật toán Gradient Descent áp dụng để cập nhật W, b được thực hiện như sau:\n",
    "$$W = W - \\alpha \\frac{\\partial MSE}{\\partial W}$$\n",
    "$$b = b - \\alpha \\frac{\\partial MSE}{\\partial b}$$\n",
    "Trong đó, $\\alpha$ là tốc độ học (learning rate).\n",
    "Tính đạo hàm của hàm mất mát MSE theo $W$ và $b$ ta được:\n",
    "$$\\frac{\\partial MSE}{\\partial W} = \\frac{2}{N}\\sum_{i=1}^{N}(\\hat{y}_i - y_i)(x_i)$$\n",
    "$$\\frac{\\partial MSE}{\\partial b} = \\frac{2}{N}\\sum_{i=1}^{N}(\\hat{y}_i - y_i)(1)$$\n",
    "\n",
    "Kết hợp lại ta được thuật toán Gradient Descent như sau:\n",
    "$$W = W - \\alpha \\frac{2}{N}\\sum_{i=1}^{N}(\\hat{y}_i - y_i)(x_i)$$\n",
    "$$b = b - \\alpha \\frac{2}{N}\\sum_{i=1}^{N}(\\hat{y}_i - y_i)$$\n",
    "Ta sẽ cập nhật W, b theo công thức trên cho đến khi hàm mất mát MSE đạt giá trị nhỏ nhất mong muốn hoặc sau 1 số lần lặp tối đa."
   ]
  },
  {
   "cell_type": "code",
   "execution_count": 1,
   "metadata": {},
   "outputs": [],
   "source": [
    "import numpy as np"
   ]
  },
  {
   "cell_type": "code",
   "execution_count": 39,
   "metadata": {},
   "outputs": [
    {
     "data": {
      "image/png": "[encoded data removed]",
      "text/plain": [
       "<Figure size 432x288 with 1 Axes>"
      ]
     },
     "metadata": {
      "needs_background": "light"
     },
     "output_type": "display_data"
    },
    {
     "name": "stdout",
     "output_type": "stream",
     "text": [
      "(100,)\n",
      "(100,)\n",
      "(100,)\n"
     ]
    }
   ],
   "source": [
    "# Generate X vector of 100 random numbers between 0 and 1\n",
    "N_OBSERVATIONS = 100\n",
    "X = np.random.rand(N_OBSERVATIONS)\n",
    "targets = 2 * X + 3\n",
    "actuals = targets + np.random.normal(0, 0.2, 100)\n",
    "\n",
    "# Plot X and actuals\n",
    "import matplotlib.pyplot as plt\n",
    "plt.scatter(X, actuals)\n",
    "# Plot X and targets\n",
    "plt.scatter(X, targets)\n",
    "plt.show()\n",
    "print(X.shape)\n",
    "print(targets.shape)\n",
    "print(actuals.shape)"
   ]
  },
  {
   "cell_type": "code",
   "execution_count": 40,
   "metadata": {},
   "outputs": [
    {
     "data": {
      "image/png": "[encoded data removed]",
      "text/plain": [
       "<Figure size 432x288 with 1 Axes>"
      ]
     },
     "metadata": {
      "needs_background": "light"
     },
     "output_type": "display_data"
    },
    {
     "name": "stdout",
     "output_type": "stream",
     "text": [
      "(100,)\n"
     ]
    }
   ],
   "source": [
    "# Initialize the weights and biases randomly in some small initial range.\n",
    "# High initial ranges may prevent the machine learning algorithm from learning.\n",
    "init_range = 0.1\n",
    "W = np.random.uniform(-init_range, init_range, size=1)\n",
    "b = np.random.uniform(-init_range, init_range, size=1)\n",
    "\n",
    "# Plot initial predictions\n",
    "predictions = W * X + b\n",
    "plt.scatter(X, actuals)\n",
    "plt.scatter(X, predictions)\n",
    "plt.show()\n",
    "\n",
    "print(predictions.shape)"
   ]
  },
  {
   "cell_type": "code",
   "execution_count": 41,
   "metadata": {},
   "outputs": [
    {
     "name": "stdout",
     "output_type": "stream",
     "text": [
      "Epoch 0: MSE = 16.048667101445837\n",
      "Epoch 10: MSE = 12.45296127067704\n",
      "Epoch 20: MSE = 9.664839168141803\n",
      "Epoch 30: MSE = 7.502917721565674\n",
      "Epoch 40: MSE = 5.826552474971862\n",
      "Epoch 50: MSE = 4.526687699954766\n",
      "Epoch 60: MSE = 3.5187615709570297\n",
      "Epoch 70: MSE = 2.737204837400478\n",
      "Epoch 80: MSE = 2.131175093452404\n",
      "Epoch 90: MSE = 1.6612491303339456\n",
      "Epoch 100: MSE = 1.2968581859367074\n",
      "Epoch 110: MSE = 1.0142992370937725\n",
      "Epoch 120: MSE = 0.7951929553881029\n",
      "Epoch 130: MSE = 0.6252880059168867\n",
      "Epoch 140: MSE = 0.4935339004219251\n",
      "Epoch 150: MSE = 0.39136208750491763\n",
      "Epoch 160: MSE = 0.3121285099012493\n",
      "Epoch 170: MSE = 0.2506813633286481\n",
      "Epoch 180: MSE = 0.2030259366507493\n",
      "Epoch 190: MSE = 0.1660647289028909\n",
      "Epoch 200: MSE = 0.13739593600514952\n",
      "Epoch 210: MSE = 0.11515719733727303\n",
      "Epoch 220: MSE = 0.09790443681549439\n",
      "Epoch 230: MSE = 0.08451791624996034\n",
      "Epoch 240: MSE = 0.07412938910753936\n",
      "Epoch 250: MSE = 0.0660656155312781\n",
      "Epoch 260: MSE = 0.059804563880059725\n",
      "Epoch 270: MSE = 0.0549414493974269\n",
      "Epoch 280: MSE = 0.05116240059143598\n",
      "Epoch 290: MSE = 0.048224040142487885\n",
      "Epoch 300: MSE = 0.045937651936803645\n",
      "Epoch 310: MSE = 0.04415690418222958\n",
      "Epoch 320: MSE = 0.04276832991067514\n",
      "Epoch 330: MSE = 0.04168394555845092\n",
      "Epoch 340: MSE = 0.040835527412446275\n",
      "Epoch 350: MSE = 0.04017017356566541\n",
      "Epoch 360: MSE = 0.03964686265686263\n",
      "Epoch 370: MSE = 0.03923378551668004\n",
      "Epoch 380: MSE = 0.03890627612557487\n",
      "Epoch 390: MSE = 0.03864520727817643\n",
      "Epoch 400: MSE = 0.03843574658106248\n",
      "Epoch 410: MSE = 0.03826639185311025\n",
      "Epoch 420: MSE = 0.03812822317463781\n",
      "Epoch 430: MSE = 0.038014322926042565\n",
      "Epoch 440: MSE = 0.03791932608551768\n",
      "Epoch 450: MSE = 0.037839071529673\n",
      "Epoch 460: MSE = 0.03777033165182243\n",
      "Epoch 470: MSE = 0.03771060270780003\n",
      "Epoch 480: MSE = 0.03765794224991119\n",
      "Epoch 490: MSE = 0.03761084307303081\n"
     ]
    }
   ],
   "source": [
    "# Train the model\n",
    "LEARNING_RATE = 0.005\n",
    "EPOCHS = 500\n",
    "for epoch in range(EPOCHS):\n",
    "    # Calculate the predictions\n",
    "    predictions = W * X + b\n",
    "\n",
    "    # Calculate the error\n",
    "    error = predictions - actuals\n",
    "\n",
    "    # Calculate the mean squared error (loss function)\n",
    "    mse = np.mean(error ** 2)\n",
    "\n",
    "    # Optimize algorithm: Update the weights and biases by subtracting the gradient\n",
    "    W -= LEARNING_RATE * 2 * np.mean(error * X)\n",
    "    b -= LEARNING_RATE * 2 * np.mean(error)\n",
    "\n",
    "    # Print the mean squared error every 10 epochs\n",
    "    if epoch % 10 == 0:\n",
    "        print(f\"Epoch {epoch}: MSE = {mse}\")"
   ]
  },
  {
   "cell_type": "code",
   "execution_count": 42,
   "metadata": {},
   "outputs": [
    {
     "data": {
      "image/png": "[encoded data removed]",
      "text/plain": [
       "<Figure size 432x288 with 1 Axes>"
      ]
     },
     "metadata": {
      "needs_background": "light"
     },
     "output_type": "display_data"
    }
   ],
   "source": [
    "# Plot the final predictions\n",
    "predictions = W * X + b\n",
    "plt.scatter(X, actuals)\n",
    "plt.scatter(X, predictions)\n",
    "plt.show()"
   ]
  },
  {
   "cell_type": "code",
   "execution_count": 43,
   "metadata": {},
   "outputs": [
    {
     "name": "stdout",
     "output_type": "stream",
     "text": [
      "W = [1.731869], b = [3.12383398]\n"
     ]
    }
   ],
   "source": [
    "# Print the final weights and biases\n",
    "print(f\"W = {W}, b = {b}\")"
   ]
  }
 ],
 "metadata": {
  "kernelspec": {
   "display_name": "Python 3",
   "language": "python",
   "name": "python3"
  },
  "language_info": {
   "codemirror_mode": {
    "name": "ipython",
    "version": 3
   },
   "file_extension": ".py",
   "mimetype": "text/x-python",
   "name": "python",
   "nbconvert_exporter": "python",
   "pygments_lexer": "ipython3",
   "version": "3.9.12"
  },
  "orig_nbformat": 4
 },
 "nbformat": 4,
 "nbformat_minor": 2
}
