{
 "cells": [
  {
   "attachments": {},
   "cell_type": "markdown",
   "metadata": {},
   "source": [
    "# Simple linear regression with multiple features and multiple outputs"
   ]
  },
  {
   "cell_type": "code",
   "execution_count": 1,
   "metadata": {},
   "outputs": [],
   "source": [
    "import numpy as np"
   ]
  },
  {
   "cell_type": "code",
   "execution_count": 27,
   "metadata": {},
   "outputs": [
    {
     "name": "stdout",
     "output_type": "stream",
     "text": [
      "[[-1.15768072 -1.50179749  0.83520243  0.43595171 -0.77312769]\n",
      " [ 1.03754635  1.17805982 -0.48613852 -1.02297863  0.61931774]\n",
      " [ 0.14692381  1.55202653  0.94323449  1.4407562   0.10691991]\n",
      " [ 1.06127887  0.34097152 -0.039931   -1.69613678  0.21541875]]\n",
      "(200, 5)\n",
      "(200, 2)\n",
      "(200, 2)\n"
     ]
    }
   ],
   "source": [
    "N_OBSERVATIONS = 200\n",
    "N_FEATURES = 5\n",
    "N_OUTPUS = 2\n",
    "\n",
    "# Generate random data for inputs & outputs\n",
    "X = np.random.randn(N_OBSERVATIONS, N_FEATURES)\n",
    "print(X[:4, :])\n",
    "print(X.shape)\n",
    "W0 = np.array([[1, 2.5], [2., 0.4], [10., -6.], [-7., 4.], [3.0, 0.]])\n",
    "b0 = np.array([4.5, -3.5])\n",
    "targets = np.dot(X, W0) + b0\n",
    "print(targets.shape)\n",
    "# Generate random outputs\n",
    "Y = np.dot(X, W0) + b0 + np.random.uniform(-1, 1, size=(N_OBSERVATIONS, N_OUTPUS))\n",
    "print(Y.shape)"
   ]
  },
  {
   "cell_type": "code",
   "execution_count": 32,
   "metadata": {},
   "outputs": [
    {
     "name": "stdout",
     "output_type": "stream",
     "text": [
      "Epoch 0: loss = 239.29920525430163\n",
      "Epoch 10: loss = 57.64153701593188\n",
      "Epoch 20: loss = 36.91878186734672\n",
      "Epoch 30: loss = 34.51246211699868\n",
      "Epoch 40: loss = 34.22595825089113\n",
      "Epoch 50: loss = 34.19063536825392\n",
      "Epoch 60: loss = 34.186073286470815\n",
      "Epoch 70: loss = 34.185449252030764\n",
      "Epoch 80: loss = 34.18535823328587\n",
      "Epoch 90: loss = 34.18534408116408\n",
      "Epoch 100: loss = 34.18534175235257\n",
      "Epoch 110: loss = 34.185341351372706\n",
      "Epoch 120: loss = 34.18534127999212\n",
      "Epoch 130: loss = 34.18534126698858\n",
      "Epoch 140: loss = 34.18534126458297\n",
      "Epoch 150: loss = 34.185341264133456\n",
      "Epoch 160: loss = 34.1853412640489\n",
      "Epoch 170: loss = 34.18534126403293\n",
      "Epoch 180: loss = 34.185341264029915\n",
      "Epoch 190: loss = 34.18534126402934\n"
     ]
    }
   ],
   "source": [
    "# Initialize weights and biases\n",
    "W = np.random.randn(N_FEATURES, N_OUTPUS)\n",
    "b = np.random.randn(N_OUTPUS)\n",
    "# Train model\n",
    "LEARNING_RATE = 0.05\n",
    "EPOCHS = 200\n",
    "for epoch in range(EPOCHS):\n",
    "    # Forward pass\n",
    "    Y_pred = np.dot(X, W) + b\n",
    "    error = Y_pred - Y\n",
    "    # Compute loss\n",
    "    loss = np.sum(error ** 2) / N_OBSERVATIONS\n",
    "    # Backward pass\n",
    "    grad_Y_pred = 2.0 * (Y_pred - Y)\n",
    "    grad_W = np.dot(X.T, grad_Y_pred)\n",
    "    grad_b = grad_Y_pred.sum(axis=0)\n",
    "    # Update weights and biases\n",
    "    W -= LEARNING_RATE * 2.0 * np.dot(X.T, error) / N_OBSERVATIONS\n",
    "    b -= LEARNING_RATE * 2.0 * np.sum(error) / N_OBSERVATIONS\n",
    "\n",
    "    if epoch % 10 == 0:\n",
    "        print(f\"Epoch {epoch}: loss = {loss}\")"
   ]
  },
  {
   "cell_type": "code",
   "execution_count": 33,
   "metadata": {},
   "outputs": [
    {
     "name": "stdout",
     "output_type": "stream",
     "text": [
      "Final loss = 34.18534126402923\n",
      "Final W = [[ 0.52910352  2.9833288 ]\n",
      " [ 2.15200822  0.28041952]\n",
      " [ 9.93170188 -5.90605525]\n",
      " [-6.55725812  3.51558812]\n",
      " [ 2.83454047  0.05481221]]\n",
      "Final b = [0.3845536  0.64950746]\n"
     ]
    }
   ],
   "source": [
    "print(f\"Final loss = {loss}\")\n",
    "print(f\"Final W = {W}\")\n",
    "print(f\"Final b = {b}\")\n"
   ]
  }
 ],
 "metadata": {
  "kernelspec": {
   "display_name": "Python 3",
   "language": "python",
   "name": "python3"
  },
  "language_info": {
   "codemirror_mode": {
    "name": "ipython",
    "version": 3
   },
   "file_extension": ".py",
   "mimetype": "text/x-python",
   "name": "python",
   "nbconvert_exporter": "python",
   "pygments_lexer": "ipython3",
   "version": "3.9.12"
  },
  "orig_nbformat": 4
 },
 "nbformat": 4,
 "nbformat_minor": 2
}
